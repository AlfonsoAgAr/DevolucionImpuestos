{
 "cells": [
  {
   "cell_type": "code",
   "execution_count": 1,
   "metadata": {},
   "outputs": [],
   "source": [
    "from cfdi import CFDI3\n",
    "import os"
   ]
  },
  {
   "cell_type": "code",
   "execution_count": 2,
   "metadata": {},
   "outputs": [
    {
     "name": "stdout",
     "output_type": "stream",
     "text": [
      "a578aeb3-be0c-4725-a078-d9eb479f8f101514_0115_08_2017_ADM_NOR_000416_1.xml\n"
     ]
    },
    {
     "ename": "TypeError",
     "evalue": "'str' object is not callable",
     "output_type": "error",
     "traceback": [
      "\u001b[0;31m---------------------------------------------------------------------------\u001b[0m",
      "\u001b[0;31mTypeError\u001b[0m                                 Traceback (most recent call last)",
      "\u001b[1;32m/Users/vultussolutions/Documents/dev/DevolucionImpuestos/lector.ipynb Cell 2'\u001b[0m in \u001b[0;36m<cell line: 3>\u001b[0;34m()\u001b[0m\n\u001b[1;32m      <a href='vscode-notebook-cell:/Users/vultussolutions/Documents/dev/DevolucionImpuestos/lector.ipynb#ch0000001?line=2'>3</a>\u001b[0m \u001b[39mfor\u001b[39;00m i \u001b[39min\u001b[39;00m os\u001b[39m.\u001b[39mlistdir(\u001b[39m'\u001b[39m\u001b[39m./2017/\u001b[39m\u001b[39m'\u001b[39m):\n\u001b[1;32m      <a href='vscode-notebook-cell:/Users/vultussolutions/Documents/dev/DevolucionImpuestos/lector.ipynb#ch0000001?line=3'>4</a>\u001b[0m     \u001b[39mprint\u001b[39m(i)\n\u001b[0;32m----> <a href='vscode-notebook-cell:/Users/vultussolutions/Documents/dev/DevolucionImpuestos/lector.ipynb#ch0000001?line=4'>5</a>\u001b[0m     \u001b[39mprint\u001b[39m(CFDI3(\u001b[39m'\u001b[39;49m\u001b[39m./2017/\u001b[39;49m\u001b[39m'\u001b[39;49m \u001b[39m+\u001b[39;49m i))\n",
      "File \u001b[0;32m~/Documents/dev/DevolucionImpuestos/cfdi.py:20\u001b[0m, in \u001b[0;36mCFDI3.__init__\u001b[0;34m(self, filepath)\u001b[0m\n\u001b[1;32m     <a href='file:///Users/vultussolutions/Documents/dev/DevolucionImpuestos/cfdi.py?line=17'>18</a>\u001b[0m \u001b[39m\"\"\" Datos generales del CFDI \"\"\"\u001b[39;00m\n\u001b[1;32m     <a href='file:///Users/vultussolutions/Documents/dev/DevolucionImpuestos/cfdi.py?line=18'>19</a>\u001b[0m \u001b[39mself\u001b[39m\u001b[39m.\u001b[39mGeneral \u001b[39m=\u001b[39m \u001b[39mself\u001b[39m\u001b[39m.\u001b[39mxml\u001b[39m.\u001b[39mgetElementsByTagName(\u001b[39m'\u001b[39m\u001b[39mcfdi:Comprobante\u001b[39m\u001b[39m'\u001b[39m)\n\u001b[0;32m---> <a href='file:///Users/vultussolutions/Documents/dev/DevolucionImpuestos/cfdi.py?line=19'>20</a>\u001b[0m \u001b[39mself\u001b[39m\u001b[39m.\u001b[39mcomprobante \u001b[39m=\u001b[39m [\n\u001b[1;32m     <a href='file:///Users/vultussolutions/Documents/dev/DevolucionImpuestos/cfdi.py?line=20'>21</a>\u001b[0m     {\n\u001b[1;32m     <a href='file:///Users/vultussolutions/Documents/dev/DevolucionImpuestos/cfdi.py?line=21'>22</a>\u001b[0m         \u001b[39mf\u001b[39m\u001b[39m'\u001b[39m\u001b[39m{\u001b[39;00melemento\u001b[39m}\u001b[39;00m\u001b[39m'\u001b[39m: \u001b[39mself\u001b[39m\u001b[39m.\u001b[39mGeneral\u001b[39m.\u001b[39mitem(\u001b[39m0\u001b[39m)\u001b[39m.\u001b[39mattributes[\u001b[39mf\u001b[39m\u001b[39m'\u001b[39m\u001b[39m{\u001b[39;00melemento\u001b[39m}\u001b[39;00m\u001b[39m'\u001b[39m]\u001b[39m.\u001b[39mvalue()\n\u001b[1;32m     <a href='file:///Users/vultussolutions/Documents/dev/DevolucionImpuestos/cfdi.py?line=22'>23</a>\u001b[0m     }\n\u001b[1;32m     <a href='file:///Users/vultussolutions/Documents/dev/DevolucionImpuestos/cfdi.py?line=23'>24</a>\u001b[0m     \u001b[39mfor\u001b[39;00m elemento \u001b[39min\u001b[39;00m comprobanteLista\n\u001b[1;32m     <a href='file:///Users/vultussolutions/Documents/dev/DevolucionImpuestos/cfdi.py?line=24'>25</a>\u001b[0m     ]\n\u001b[1;32m     <a href='file:///Users/vultussolutions/Documents/dev/DevolucionImpuestos/cfdi.py?line=27'>28</a>\u001b[0m \u001b[39mself\u001b[39m\u001b[39m.\u001b[39mtotal \u001b[39m=\u001b[39m \u001b[39mself\u001b[39m\u001b[39m.\u001b[39mGeneral\u001b[39m.\u001b[39mitem(\u001b[39m0\u001b[39m)\u001b[39m.\u001b[39mattributes[\u001b[39m'\u001b[39m\u001b[39mTotal\u001b[39m\u001b[39m'\u001b[39m]\u001b[39m.\u001b[39mvalue\n\u001b[1;32m     <a href='file:///Users/vultussolutions/Documents/dev/DevolucionImpuestos/cfdi.py?line=28'>29</a>\u001b[0m \u001b[39mself\u001b[39m\u001b[39m.\u001b[39msubtotal \u001b[39m=\u001b[39m \u001b[39mself\u001b[39m\u001b[39m.\u001b[39mGeneral\u001b[39m.\u001b[39mitem(\u001b[39m0\u001b[39m)\u001b[39m.\u001b[39mattributes[\u001b[39m'\u001b[39m\u001b[39mSubTotal\u001b[39m\u001b[39m'\u001b[39m]\u001b[39m.\u001b[39mvalue\n",
      "File \u001b[0;32m~/Documents/dev/DevolucionImpuestos/cfdi.py:22\u001b[0m, in \u001b[0;36m<listcomp>\u001b[0;34m(.0)\u001b[0m\n\u001b[1;32m     <a href='file:///Users/vultussolutions/Documents/dev/DevolucionImpuestos/cfdi.py?line=17'>18</a>\u001b[0m \u001b[39m\"\"\" Datos generales del CFDI \"\"\"\u001b[39;00m\n\u001b[1;32m     <a href='file:///Users/vultussolutions/Documents/dev/DevolucionImpuestos/cfdi.py?line=18'>19</a>\u001b[0m \u001b[39mself\u001b[39m\u001b[39m.\u001b[39mGeneral \u001b[39m=\u001b[39m \u001b[39mself\u001b[39m\u001b[39m.\u001b[39mxml\u001b[39m.\u001b[39mgetElementsByTagName(\u001b[39m'\u001b[39m\u001b[39mcfdi:Comprobante\u001b[39m\u001b[39m'\u001b[39m)\n\u001b[1;32m     <a href='file:///Users/vultussolutions/Documents/dev/DevolucionImpuestos/cfdi.py?line=19'>20</a>\u001b[0m \u001b[39mself\u001b[39m\u001b[39m.\u001b[39mcomprobante \u001b[39m=\u001b[39m [\n\u001b[1;32m     <a href='file:///Users/vultussolutions/Documents/dev/DevolucionImpuestos/cfdi.py?line=20'>21</a>\u001b[0m     {\n\u001b[0;32m---> <a href='file:///Users/vultussolutions/Documents/dev/DevolucionImpuestos/cfdi.py?line=21'>22</a>\u001b[0m         \u001b[39mf\u001b[39m\u001b[39m'\u001b[39m\u001b[39m{\u001b[39;00melemento\u001b[39m}\u001b[39;00m\u001b[39m'\u001b[39m: \u001b[39mself\u001b[39;49m\u001b[39m.\u001b[39;49mGeneral\u001b[39m.\u001b[39;49mitem(\u001b[39m0\u001b[39;49m)\u001b[39m.\u001b[39;49mattributes[\u001b[39mf\u001b[39;49m\u001b[39m'\u001b[39;49m\u001b[39m{\u001b[39;49;00melemento\u001b[39m}\u001b[39;49;00m\u001b[39m'\u001b[39;49m]\u001b[39m.\u001b[39;49mvalue()\n\u001b[1;32m     <a href='file:///Users/vultussolutions/Documents/dev/DevolucionImpuestos/cfdi.py?line=22'>23</a>\u001b[0m     }\n\u001b[1;32m     <a href='file:///Users/vultussolutions/Documents/dev/DevolucionImpuestos/cfdi.py?line=23'>24</a>\u001b[0m     \u001b[39mfor\u001b[39;00m elemento \u001b[39min\u001b[39;00m comprobanteLista\n\u001b[1;32m     <a href='file:///Users/vultussolutions/Documents/dev/DevolucionImpuestos/cfdi.py?line=24'>25</a>\u001b[0m     ]\n\u001b[1;32m     <a href='file:///Users/vultussolutions/Documents/dev/DevolucionImpuestos/cfdi.py?line=27'>28</a>\u001b[0m \u001b[39mself\u001b[39m\u001b[39m.\u001b[39mtotal \u001b[39m=\u001b[39m \u001b[39mself\u001b[39m\u001b[39m.\u001b[39mGeneral\u001b[39m.\u001b[39mitem(\u001b[39m0\u001b[39m)\u001b[39m.\u001b[39mattributes[\u001b[39m'\u001b[39m\u001b[39mTotal\u001b[39m\u001b[39m'\u001b[39m]\u001b[39m.\u001b[39mvalue\n\u001b[1;32m     <a href='file:///Users/vultussolutions/Documents/dev/DevolucionImpuestos/cfdi.py?line=28'>29</a>\u001b[0m \u001b[39mself\u001b[39m\u001b[39m.\u001b[39msubtotal \u001b[39m=\u001b[39m \u001b[39mself\u001b[39m\u001b[39m.\u001b[39mGeneral\u001b[39m.\u001b[39mitem(\u001b[39m0\u001b[39m)\u001b[39m.\u001b[39mattributes[\u001b[39m'\u001b[39m\u001b[39mSubTotal\u001b[39m\u001b[39m'\u001b[39m]\u001b[39m.\u001b[39mvalue\n",
      "\u001b[0;31mTypeError\u001b[0m: 'str' object is not callable"
     ]
    }
   ],
   "source": [
    "# path = os.path.expanduser('~/Documents/dev/DevolucionImpuestos/2017/') # path de los archivos xml\n",
    "\n",
    "for i in os.listdir('./2017/'):\n",
    "    print(i)\n",
    "    print(CFDI3('./2017/' + i))"
   ]
  }
 ],
 "metadata": {
  "interpreter": {
   "hash": "aee8b7b246df8f9039afb4144a1f6fd8d2ca17a180786b69acc140d282b71a49"
  },
  "kernelspec": {
   "display_name": "Python 3.10.2 64-bit",
   "language": "python",
   "name": "python3"
  },
  "language_info": {
   "codemirror_mode": {
    "name": "ipython",
    "version": 3
   },
   "file_extension": ".py",
   "mimetype": "text/x-python",
   "name": "python",
   "nbconvert_exporter": "python",
   "pygments_lexer": "ipython3",
   "version": "3.10.2"
  },
  "orig_nbformat": 4
 },
 "nbformat": 4,
 "nbformat_minor": 2
}
