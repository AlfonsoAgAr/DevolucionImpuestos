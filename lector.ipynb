{
 "cells": [
  {
   "cell_type": "code",
   "execution_count": 1,
   "metadata": {},
   "outputs": [],
   "source": [
    "from cfdi import CFDI3\n",
    "import os"
   ]
  },
  {
   "cell_type": "code",
   "execution_count": 2,
   "metadata": {},
   "outputs": [
    {
     "name": "stdout",
     "output_type": "stream",
     "text": [
      "{'Total': '8209.66', 'SubTotal': '9425.21', 'Descuento': '1215.55', 'Fecha': '2018-12-11T01:53:46', 'Serie': '000416201707165572', 'Sello': 'ZHkqA6S5+3e6Q07v3zXYO77N1onVGk51JPgeOHvzSXfHxNwe9nVglNOqsb6WRJvvuhwpvrObQdijiZnM5K980/8cxLXr6Lvf+X0hM4ICBot6MNvM5qwCSZNr+4SIzdlOnpkQB112RHEN5mgKuVycMv38DNhrVQ3LZyJBd4Fj4TEHuJCblp7CJppwONzx3HqKIAeDOqo9W9JJBhx3rKgwxs3hYZBqCqzi/SDmO+GuAII+ubtM60TvdhyBYR99V7Hopoz6dvEUx7aod3wXTcIhDwcet6xXDpPfcTDNEv0FpFDlncErUbyak7yZ5ePxWZhMr3egFOJAkgyPo61RMppLOw==', 'NoCertificado': '00001000000409288151', 'Certificado': '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', 'Nombre': 'Colegio de Bachilleres de Chiapas O. P. D.', 'RegimenFiscal': '603', 'Rfc': 'CBC78090537A', 'ClaveProdServ': '84111505', 'ClaveUnidad': 'ACT', 'Descripción': None, 'Cantidad': '1', 'Importe': '9425.21', 'ValorUnitario': '9425.21', 'FechaInicialPago': '2017-07-16', 'FechaFinalPago': '2017-07-31', 'FechaPago': '2017-07-21', 'NumDiasPagados': '15', 'TotalDeducciones': '1215.55', 'TotalPercepciones': '9425.21', 'TotalExento': '2636.61', 'TotalGravado': '6788.60', 'TotalSueldos': '9425.21', 'DesglosePercepciones': {0: {'Clave': '001', 'Concepto': 'SALARIO', 'ImporteExento': '0.00', 'ImporteGravado': '5614.65', 'TipoPercepcion': '001'}, 1: {'Clave': '042', 'Concepto': 'AYUDA PARA TRANSPORTE', 'ImporteExento': '150.00', 'ImporteGravado': '0.00', 'TipoPercepcion': '036'}, 2: {'Clave': '005', 'Concepto': 'PREVISION SOCIAL MULTIPLE', 'ImporteExento': '307.50', 'ImporteGravado': '0.00', 'TipoPercepcion': '038'}, 3: {'Clave': '006', 'Concepto': 'QUINQUENIO', 'ImporteExento': '2179.11', 'ImporteGravado': '908.95', 'TipoPercepcion': '038'}, 4: {'Clave': '015', 'Concepto': 'EST  DE GUARDERIA', 'ImporteExento': '0.00', 'ImporteGravado': '265.00', 'TipoPercepcion': '038'}}, 'TotalImpuestosRetenidos': '902.86', 'TotalOtrasDeducciones': '312.69', 'TotalImpuestosTrasladados': None, 'DesgloseDeducciones': {0: {'Clave': '066', 'Concepto': 'I M S S', 'Importe': '312.69', 'TipoDeduccion': '001'}, 1: {'Clave': '052', 'Concepto': 'I S P T', 'Importe': '902.86', 'TipoDeduccion': '002'}}, 'FechaTimbrado': '2018-12-11T01:54:57', 'UUID': '5d65d07a-3175-4a21-9185-660dd355d9c5', 'NoCertificadoSAT': '00001000000306850881', 'SelloCFD': 'ZHkqA6S5+3e6Q07v3zXYO77N1onVGk51JPgeOHvzSXfHxNwe9nVglNOqsb6WRJvvuhwpvrObQdijiZnM5K980/8cxLXr6Lvf+X0hM4ICBot6MNvM5qwCSZNr+4SIzdlOnpkQB112RHEN5mgKuVycMv38DNhrVQ3LZyJBd4Fj4TEHuJCblp7CJppwONzx3HqKIAeDOqo9W9JJBhx3rKgwxs3hYZBqCqzi/SDmO+GuAII+ubtM60TvdhyBYR99V7Hopoz6dvEUx7aod3wXTcIhDwcet6xXDpPfcTDNEv0FpFDlncErUbyak7yZ5ePxWZhMr3egFOJAkgyPo61RMppLOw==', 'SelloSAT': 'Kszu1jAZywc5Wk3bJNOgnpVe1sdNqO9EYH3FVcSw4sz58TCrYZWsfw1W9hUBk50waMOlCIWuebjmrKtYJfmMwBVVU7cYNNfjstZztn3O+eVVOkcu9r85LnWX0vcWLA3Rxuy6kJTeIMEA+sWw6la6wHPkAhHuU2mkiiDtbg0vX94='}\n"
     ]
    }
   ],
   "source": [
    "print(CFDI3('./2017/5d65d07a-3175-4a21-9185-660dd355d9c51521_1631_07_2017_ADM_NOR_000416_1.xml').values)"
   ]
  },
  {
   "cell_type": "code",
   "execution_count": 3,
   "metadata": {},
   "outputs": [
    {
     "name": "stdout",
     "output_type": "stream",
     "text": [
      "{\n",
      "    \"Total\": \"8209.66\",\n",
      "    \"SubTotal\": \"9425.21\",\n",
      "    \"Descuento\": \"1215.55\",\n",
      "    \"Fecha\": \"2018-12-11T01:53:46\",\n",
      "    \"Serie\": \"000416201707165572\",\n",
      "    \"Sello\": \"ZHkqA6S5+3e6Q07v3zXYO77N1onVGk51JPgeOHvzSXfHxNwe9nVglNOqsb6WRJvvuhwpvrObQdijiZnM5K980/8cxLXr6Lvf+X0hM4ICBot6MNvM5qwCSZNr+4SIzdlOnpkQB112RHEN5mgKuVycMv38DNhrVQ3LZyJBd4Fj4TEHuJCblp7CJppwONzx3HqKIAeDOqo9W9JJBhx3rKgwxs3hYZBqCqzi/SDmO+GuAII+ubtM60TvdhyBYR99V7Hopoz6dvEUx7aod3wXTcIhDwcet6xXDpPfcTDNEv0FpFDlncErUbyak7yZ5ePxWZhMr3egFOJAkgyPo61RMppLOw==\",\n",
      "    \"NoCertificado\": \"00001000000409288151\",\n",
      "    \"Certificado\": \"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\",\n",
      "    \"Nombre\": \"Colegio de Bachilleres de Chiapas O. P. D.\",\n",
      "    \"RegimenFiscal\": \"603\",\n",
      "    \"Rfc\": \"CBC78090537A\",\n",
      "    \"ClaveProdServ\": \"84111505\",\n",
      "    \"ClaveUnidad\": \"ACT\",\n",
      "    \"Descripci\\u00f3n\": null,\n",
      "    \"Cantidad\": \"1\",\n",
      "    \"Importe\": \"9425.21\",\n",
      "    \"ValorUnitario\": \"9425.21\",\n",
      "    \"FechaInicialPago\": \"2017-07-16\",\n",
      "    \"FechaFinalPago\": \"2017-07-31\",\n",
      "    \"FechaPago\": \"2017-07-21\",\n",
      "    \"NumDiasPagados\": \"15\",\n",
      "    \"TotalDeducciones\": \"1215.55\",\n",
      "    \"TotalPercepciones\": \"9425.21\",\n",
      "    \"TotalExento\": \"2636.61\",\n",
      "    \"TotalGravado\": \"6788.60\",\n",
      "    \"TotalSueldos\": \"9425.21\",\n",
      "    \"DesglosePercepciones\": {\n",
      "        \"0\": {\n",
      "            \"Clave\": \"001\",\n",
      "            \"Concepto\": \"SALARIO\",\n",
      "            \"ImporteExento\": \"0.00\",\n",
      "            \"ImporteGravado\": \"5614.65\",\n",
      "            \"TipoPercepcion\": \"001\"\n",
      "        },\n",
      "        \"1\": {\n",
      "            \"Clave\": \"042\",\n",
      "            \"Concepto\": \"AYUDA PARA TRANSPORTE\",\n",
      "            \"ImporteExento\": \"150.00\",\n",
      "            \"ImporteGravado\": \"0.00\",\n",
      "            \"TipoPercepcion\": \"036\"\n",
      "        },\n",
      "        \"2\": {\n",
      "            \"Clave\": \"005\",\n",
      "            \"Concepto\": \"PREVISION SOCIAL MULTIPLE\",\n",
      "            \"ImporteExento\": \"307.50\",\n",
      "            \"ImporteGravado\": \"0.00\",\n",
      "            \"TipoPercepcion\": \"038\"\n",
      "        },\n",
      "        \"3\": {\n",
      "            \"Clave\": \"006\",\n",
      "            \"Concepto\": \"QUINQUENIO\",\n",
      "            \"ImporteExento\": \"2179.11\",\n",
      "            \"ImporteGravado\": \"908.95\",\n",
      "            \"TipoPercepcion\": \"038\"\n",
      "        },\n",
      "        \"4\": {\n",
      "            \"Clave\": \"015\",\n",
      "            \"Concepto\": \"EST  DE GUARDERIA\",\n",
      "            \"ImporteExento\": \"0.00\",\n",
      "            \"ImporteGravado\": \"265.00\",\n",
      "            \"TipoPercepcion\": \"038\"\n",
      "        }\n",
      "    },\n",
      "    \"TotalImpuestosRetenidos\": \"902.86\",\n",
      "    \"TotalOtrasDeducciones\": \"312.69\",\n",
      "    \"TotalImpuestosTrasladados\": null,\n",
      "    \"DesgloseDeducciones\": {\n",
      "        \"0\": {\n",
      "            \"Clave\": \"066\",\n",
      "            \"Concepto\": \"I M S S\",\n",
      "            \"Importe\": \"312.69\",\n",
      "            \"TipoDeduccion\": \"001\"\n",
      "        },\n",
      "        \"1\": {\n",
      "            \"Clave\": \"052\",\n",
      "            \"Concepto\": \"I S P T\",\n",
      "            \"Importe\": \"902.86\",\n",
      "            \"TipoDeduccion\": \"002\"\n",
      "        }\n",
      "    },\n",
      "    \"FechaTimbrado\": \"2018-12-11T01:54:57\",\n",
      "    \"UUID\": \"5d65d07a-3175-4a21-9185-660dd355d9c5\",\n",
      "    \"NoCertificadoSAT\": \"00001000000306850881\",\n",
      "    \"SelloCFD\": \"ZHkqA6S5+3e6Q07v3zXYO77N1onVGk51JPgeOHvzSXfHxNwe9nVglNOqsb6WRJvvuhwpvrObQdijiZnM5K980/8cxLXr6Lvf+X0hM4ICBot6MNvM5qwCSZNr+4SIzdlOnpkQB112RHEN5mgKuVycMv38DNhrVQ3LZyJBd4Fj4TEHuJCblp7CJppwONzx3HqKIAeDOqo9W9JJBhx3rKgwxs3hYZBqCqzi/SDmO+GuAII+ubtM60TvdhyBYR99V7Hopoz6dvEUx7aod3wXTcIhDwcet6xXDpPfcTDNEv0FpFDlncErUbyak7yZ5ePxWZhMr3egFOJAkgyPo61RMppLOw==\",\n",
      "    \"SelloSAT\": \"Kszu1jAZywc5Wk3bJNOgnpVe1sdNqO9EYH3FVcSw4sz58TCrYZWsfw1W9hUBk50waMOlCIWuebjmrKtYJfmMwBVVU7cYNNfjstZztn3O+eVVOkcu9r85LnWX0vcWLA3Rxuy6kJTeIMEA+sWw6la6wHPkAhHuU2mkiiDtbg0vX94=\"\n",
      "}\n"
     ]
    }
   ],
   "source": [
    "print(CFDI3('./2017/5d65d07a-3175-4a21-9185-660dd355d9c51521_1631_07_2017_ADM_NOR_000416_1.xml').to_json())"
   ]
  },
  {
   "cell_type": "code",
   "execution_count": 4,
   "metadata": {},
   "outputs": [],
   "source": [
    "# path = os.path.expanduser('~/Documents/dev/DevolucionImpuestos/2017/') # path de los archivos xml\n",
    "\n",
    "# for i in os.listdir('./2017/'):\n",
    "#     print(i)\n",
    "#     print(CFDI3('./2017/' + i).test())"
   ]
  }
 ],
 "metadata": {
  "interpreter": {
   "hash": "aee8b7b246df8f9039afb4144a1f6fd8d2ca17a180786b69acc140d282b71a49"
  },
  "kernelspec": {
   "display_name": "Python 3.10.2 64-bit",
   "language": "python",
   "name": "python3"
  },
  "language_info": {
   "codemirror_mode": {
    "name": "ipython",
    "version": 3
   },
   "file_extension": ".py",
   "mimetype": "text/x-python",
   "name": "python",
   "nbconvert_exporter": "python",
   "pygments_lexer": "ipython3",
   "version": "3.10.2"
  },
  "orig_nbformat": 4
 },
 "nbformat": 4,
 "nbformat_minor": 2
}
